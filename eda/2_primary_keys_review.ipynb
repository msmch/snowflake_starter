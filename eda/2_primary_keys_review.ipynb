{
 "cells": [
  {
   "cell_type": "code",
   "execution_count": null,
   "metadata": {},
   "outputs": [],
   "source": [
    "import pandas as pd\n",
    "import os\n",
    "\n",
    "\n",
    "DIRECTORY = '../data/'\n",
    "for root, dirs, files in os.walk(DIRECTORY):\n",
    "    file_names = files"
   ]
  },
  {
   "cell_type": "code",
   "execution_count": null,
   "metadata": {},
   "outputs": [],
   "source": [
    "# data is clean, primary key seems to be always in the very first column. Let's run a sanity check.\n",
    "print('Number of nulls in the primary key_column\\n')\n",
    "for file in file_names:\n",
    "    fpath = DIRECTORY + file\n",
    "    df = pd.read_csv(fpath)\n",
    "\n",
    "    print(f'File {file}, column {df.columns[0]}: {df.iloc[:, 0].isnull().sum()}')\n",
    "    print(f'{len(df.iloc[:, 0].unique())} unique records in {len(df)} rows.')\n",
    "    # the IDs will need to be autoincrements, let's definie the autoincrement start\n",
    "    print(f'Max ID value: {df.iloc[:, 0].max()} \\n')"
   ]
  },
  {
   "cell_type": "markdown",
   "metadata": {},
   "source": [
    "The assumptions I had are not 100% correct. I will not generate any default values for keys as all this data seems to be comming from a different database so I would expect the users to add a new data with the newly generated keys. Otherwise I will use autoincrement for most of the tables in this data set. \n",
    "\n",
    "In terms of the particular files, I see the following issues that I should be taken into consideration:\n",
    "\n",
    "- in appearances.csv appearance_id is string, it looks like it's not used for any relation. Given it has a specific format I will not null constraint and this way I will force users to add that (this will be my approach for all tables btw).\n",
    "- in clubs.csv club_id is correct key but it's not incrementing by 1. I'm not able to override that as club_id is used for multiple relations. Transfermarkt stores information about thousands of clubs so most likely they use the same approach but the data set contains only 400 clubs from top leagues.\n",
    "- in club_games.csv all game_id needs to be combined with club_id to have a unique primary key\n",
    "- in competitions.csv the key is string, need to change table ddl. I will not set any default value and 'not null' condition will force db users to provide this key.\n",
    "- in game_events.csv, and player_valuations.csv, similar to club_games we need to create another columns with artificially created key if we want to have that unique. Normally I would go with MD5 but here for the simplicity I will keep going with a simple concat."
   ]
  }
 ],
 "metadata": {
  "kernelspec": {
   "display_name": "Python 3",
   "language": "python",
   "name": "python3"
  },
  "language_info": {
   "codemirror_mode": {
    "name": "ipython",
    "version": 3
   },
   "file_extension": ".py",
   "mimetype": "text/x-python",
   "name": "python",
   "nbconvert_exporter": "python",
   "pygments_lexer": "ipython3",
   "version": "3.11.4"
  }
 },
 "nbformat": 4,
 "nbformat_minor": 2
}
